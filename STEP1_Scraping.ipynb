{
 "cells": [
  {
   "cell_type": "code",
   "execution_count": 55,
   "metadata": {},
   "outputs": [],
   "source": [
    "from  selenium import webdriver\n",
    "from selenium.webdriver.common.keys import Keys\n",
    "from selenium.webdriver.chrome.options import Options\n",
    "import time\n",
    "from datetime import datetime\n",
    "from selenium.webdriver.common.by import By\n",
    "from selenium.webdriver.support.ui import WebDriverWait\n",
    "from selenium.webdriver.support import expected_conditions as EC\n",
    "from selenium.common.exceptions import NoSuchElementException\n",
    "from time import sleep\n",
    "from selenium.common.exceptions import TimeoutException, StaleElementReferenceException\n",
    "import pandas as pd\n",
    "from selenium.webdriver.common.action_chains import ActionChains\n",
    "from urllib.parse import quote"
   ]
  },
  {
   "cell_type": "code",
   "execution_count": 56,
   "metadata": {},
   "outputs": [],
   "source": [
    "from selenium import webdriver\n",
    "\n",
    "# Chemin du fichier chromedriver\n",
    "chrome_driver_path = r\"chromedriver_win32\\\\chromedriver.exe\"\n",
    "\n",
    "# Initialisation des options du navigateur Chrome\n",
    "options = webdriver.ChromeOptions()\n",
    "options.add_argument(\"--headless\")  # Pour exécuter Chrome en mode headless (sans fenêtre)\n",
    "options.add_argument(\"--no-sandbox\")  # Pour exécuter Chrome dans un environnement sandbox\n",
    "options.add_argument(\"--disable-dev-shm-usage\")  # Pour résoudre les problèmes de mémoire dans certains environnements\n",
    "\n",
    "# Configurer les options du navigateur\n",
    "options = Options()\n",
    "options.add_argument(\"--disable-blink-features=AutomationControlled\")\n",
    "\n",
    "# Initialisation du pilote Chrome en spécifiant les options\n",
    "driver = webdriver.Chrome(options=options)"
   ]
  },
  {
   "cell_type": "code",
   "execution_count": 57,
   "metadata": {},
   "outputs": [],
   "source": [
    "# Page d'accueil de agence ecofin\n",
    "url = 'https://www.agenceecofin.com/'\n",
    "\n",
    "# Ouvrir agence ecofin\n",
    "driver.get(url)"
   ]
  },
  {
   "cell_type": "code",
   "execution_count": 58,
   "metadata": {},
   "outputs": [],
   "source": [
    "# Fonction pour extraire les informations d'un article\n",
    "def extraire_info_article():\n",
    "    # Extraire la catégorie d'article\n",
    "    categorie_element = driver.find_element(By.XPATH, '//*[@id=\"k2Container\"]/div[1]/a/span')\n",
    "    categorie = categorie_element.text\n",
    "\n",
    "    # Extraire le titre de l'article\n",
    "    titre_element = driver.find_element(By.XPATH, '//*[@id=\"k2Container\"]/div[2]/h1')\n",
    "    titre = titre_element.text\n",
    "\n",
    "    # Extraire le contenu de l'article\n",
    "    contenu_element = driver.find_element(By.XPATH, '//*[@id=\"k2Container\"]/div[3]/div[3]')\n",
    "    contenu = contenu_element.text\n",
    "\n",
    "    # Récupérer le lien de l'article\n",
    "    lien_article = driver.current_url\n",
    "\n",
    "    # Retourner les informations de l'article\n",
    "    return {\"Catégorie\": categorie, \"Titre\": titre, \"Contenu\": contenu, \"Lien\": lien_article}\n",
    "\n",
    "# Liste pour stocker les données des articles\n",
    "articles_data = []"
   ]
  },
  {
   "cell_type": "code",
   "execution_count": 59,
   "metadata": {},
   "outputs": [],
   "source": [
    "# Trouver le premier article et cliquer dessus\n",
    "article_xpath = '//*[@id=\"sppb-addon-1703172088750\"]/div/div/div[1]/div/div/div/div[2]/div/span[2]/p/a'\n",
    "article = driver.find_element(By.XPATH, article_xpath)\n",
    "article.click()\n",
    "\n",
    "# Attendre que la page de l'article se charge complètement\n",
    "driver.implicitly_wait(10)\n",
    "\n",
    "# Extraire les informations du premier article\n",
    "articles_data.append(extraire_info_article())"
   ]
  },
  {
   "cell_type": "code",
   "execution_count": 60,
   "metadata": {},
   "outputs": [],
   "source": [
    "# Trouver le bouton \"Accueil\" et cliquer dessus\n",
    "accueil_button_xpath = '//*[@id=\"dj-megamenu2242\"]/li[1]/a/span'\n",
    "accueil_button = driver.find_element(By.XPATH, accueil_button_xpath)\n",
    "accueil_button.click()"
   ]
  },
  {
   "cell_type": "code",
   "execution_count": 61,
   "metadata": {},
   "outputs": [],
   "source": [
    "# Défilement léger vers le bas\n",
    "driver.execute_script(\"window.scrollBy(0, 1000);\")"
   ]
  },
  {
   "cell_type": "code",
   "execution_count": 62,
   "metadata": {},
   "outputs": [],
   "source": [
    "# Trouver le deuxième article et cliquer dessus\n",
    "deuxieme_article_xpath = '//*[@id=\"sppb-addon-1703236235149\"]/div/div/div[1]/div/div/div/div[1]/a/img'\n",
    "deuxieme_article = driver.find_element(By.XPATH, deuxieme_article_xpath)\n",
    "deuxieme_article.click()\n",
    "\n",
    "# Extraire les informations du deuxième article\n",
    "articles_data.append(extraire_info_article())"
   ]
  },
  {
   "cell_type": "code",
   "execution_count": 66,
   "metadata": {},
   "outputs": [],
   "source": [
    "# Trouver le bouton \"Accueil\" et cliquer dessus\n",
    "accueil_button_xpath = '//*[@id=\"dj-megamenu2242\"]/li[1]/a/span'\n",
    "accueil_button = driver.find_element(By.XPATH, accueil_button_xpath)\n",
    "accueil_button.click()"
   ]
  },
  {
   "cell_type": "code",
   "execution_count": 67,
   "metadata": {},
   "outputs": [],
   "source": [
    "# Défilement léger vers le bas\n",
    "driver.execute_script(\"window.scrollBy(0, 1600);\")"
   ]
  },
  {
   "cell_type": "code",
   "execution_count": 68,
   "metadata": {},
   "outputs": [],
   "source": [
    "# Trouver le troisième article et cliquer dessus\n",
    "troisieme_article_xpath = '//*[@id=\"sppb-addon-1703236235230\"]/div/div/div[1]/div/div/div/div[1]/a/img'\n",
    "troisieme_article = driver.find_element(By.XPATH, troisieme_article_xpath)\n",
    "troisieme_article.click()\n",
    "\n",
    "# Attendre que la page de l'article se charge complètement\n",
    "driver.implicitly_wait(10)\n",
    "\n",
    "# Extraire les informations du troisième article\n",
    "articles_data.append(extraire_info_article())"
   ]
  },
  {
   "cell_type": "code",
   "execution_count": 69,
   "metadata": {},
   "outputs": [
    {
     "name": "stdout",
     "output_type": "stream",
     "text": [
      "    Catégorie                                              Titre  \\\n",
      "0  Actualités  Sénégal : le Premier ministre Sonko évoque la ...   \n",
      "1    Economie  La Tunisie contracte un prêt syndiqué de 185 m...   \n",
      "2     Finance  Accord Ecobank-SFI : 140 millions $ pour boost...   \n",
      "\n",
      "                                             Contenu  \\\n",
      "0  (Agence Ecofin) - Ousmane Sonko a souligné que...   \n",
      "1  (Agence Ecofin) - L’octroi d’un prêt syndiqué ...   \n",
      "2  (Agence Ecofin) - La garantie soutiendra les o...   \n",
      "\n",
      "                                                Lien  \n",
      "0  https://www.agenceecofin.com/actualites/1705-1...  \n",
      "1  https://www.agenceecofin.com/economie/1705-118...  \n",
      "2  https://www.agenceecofin.com/finance/1705-1187...  \n"
     ]
    }
   ],
   "source": [
    "# Créer un DataFrame à partir des données des articles\n",
    "df = pd.DataFrame(articles_data)\n",
    "\n",
    "# Afficher le DataFrame\n",
    "print(df)"
   ]
  },
  {
   "cell_type": "code",
   "execution_count": 70,
   "metadata": {},
   "outputs": [
    {
     "data": {
      "text/html": [
       "<div>\n",
       "<style scoped>\n",
       "    .dataframe tbody tr th:only-of-type {\n",
       "        vertical-align: middle;\n",
       "    }\n",
       "\n",
       "    .dataframe tbody tr th {\n",
       "        vertical-align: top;\n",
       "    }\n",
       "\n",
       "    .dataframe thead th {\n",
       "        text-align: right;\n",
       "    }\n",
       "</style>\n",
       "<table border=\"1\" class=\"dataframe\">\n",
       "  <thead>\n",
       "    <tr style=\"text-align: right;\">\n",
       "      <th></th>\n",
       "      <th>Catégorie</th>\n",
       "      <th>Titre</th>\n",
       "      <th>Contenu</th>\n",
       "      <th>Lien</th>\n",
       "    </tr>\n",
       "  </thead>\n",
       "  <tbody>\n",
       "    <tr>\n",
       "      <th>0</th>\n",
       "      <td>Actualités</td>\n",
       "      <td>Sénégal : le Premier ministre Sonko évoque la ...</td>\n",
       "      <td>(Agence Ecofin) - Ousmane Sonko a souligné que...</td>\n",
       "      <td>https://www.agenceecofin.com/actualites/1705-1...</td>\n",
       "    </tr>\n",
       "    <tr>\n",
       "      <th>1</th>\n",
       "      <td>Economie</td>\n",
       "      <td>La Tunisie contracte un prêt syndiqué de 185 m...</td>\n",
       "      <td>(Agence Ecofin) - L’octroi d’un prêt syndiqué ...</td>\n",
       "      <td>https://www.agenceecofin.com/economie/1705-118...</td>\n",
       "    </tr>\n",
       "    <tr>\n",
       "      <th>2</th>\n",
       "      <td>Finance</td>\n",
       "      <td>Accord Ecobank-SFI : 140 millions $ pour boost...</td>\n",
       "      <td>(Agence Ecofin) - La garantie soutiendra les o...</td>\n",
       "      <td>https://www.agenceecofin.com/finance/1705-1187...</td>\n",
       "    </tr>\n",
       "  </tbody>\n",
       "</table>\n",
       "</div>"
      ],
      "text/plain": [
       "    Catégorie                                              Titre  \\\n",
       "0  Actualités  Sénégal : le Premier ministre Sonko évoque la ...   \n",
       "1    Economie  La Tunisie contracte un prêt syndiqué de 185 m...   \n",
       "2     Finance  Accord Ecobank-SFI : 140 millions $ pour boost...   \n",
       "\n",
       "                                             Contenu  \\\n",
       "0  (Agence Ecofin) - Ousmane Sonko a souligné que...   \n",
       "1  (Agence Ecofin) - L’octroi d’un prêt syndiqué ...   \n",
       "2  (Agence Ecofin) - La garantie soutiendra les o...   \n",
       "\n",
       "                                                Lien  \n",
       "0  https://www.agenceecofin.com/actualites/1705-1...  \n",
       "1  https://www.agenceecofin.com/economie/1705-118...  \n",
       "2  https://www.agenceecofin.com/finance/1705-1187...  "
      ]
     },
     "execution_count": 70,
     "metadata": {},
     "output_type": "execute_result"
    }
   ],
   "source": [
    "df.head()"
   ]
  },
  {
   "cell_type": "code",
   "execution_count": 71,
   "metadata": {},
   "outputs": [],
   "source": [
    "# Fermer le navigateur\n",
    "driver.quit()"
   ]
  },
  {
   "cell_type": "code",
   "execution_count": 72,
   "metadata": {},
   "outputs": [],
   "source": [
    "df.to_csv('articles.csv', index=False)"
   ]
  },
  {
   "cell_type": "markdown",
   "metadata": {},
   "source": [
    "Par suite l'on utilise l'outil disponible sur ce lien pour convertir notre csv en pdf pour le chatbot : https://convertio.co/fr/csv-pdf/"
   ]
  }
 ],
 "metadata": {
  "kernelspec": {
   "display_name": "Python 3",
   "language": "python",
   "name": "python3"
  },
  "language_info": {
   "codemirror_mode": {
    "name": "ipython",
    "version": 3
   },
   "file_extension": ".py",
   "mimetype": "text/x-python",
   "name": "python",
   "nbconvert_exporter": "python",
   "pygments_lexer": "ipython3",
   "version": "3.12.3"
  }
 },
 "nbformat": 4,
 "nbformat_minor": 2
}
